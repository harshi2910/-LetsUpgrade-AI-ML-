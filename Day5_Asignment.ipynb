{
  "nbformat": 4,
  "nbformat_minor": 0,
  "metadata": {
    "colab": {
      "name": "Day5_Asignment.ipynb",
      "provenance": [],
      "collapsed_sections": []
    },
    "kernelspec": {
      "name": "python3",
      "display_name": "Python 3"
    }
  },
  "cells": [
    {
      "cell_type": "markdown",
      "metadata": {
        "id": "DHwcLQtCg9Pp",
        "colab_type": "text"
      },
      "source": [
        "**Ques:1- Write a Python program to find the first 20 non-even prime natural numbers.**\n"
      ]
    },
    {
      "cell_type": "code",
      "metadata": {
        "id": "NI5LyLsrhplC",
        "colab_type": "code",
        "colab": {
          "base_uri": "https://localhost:8080/",
          "height": 187
        },
        "outputId": "cb9e6dd9-c665-4071-900e-bb40e2506bea"
      },
      "source": [
        "start = 0\n",
        "end = 20\n",
        "  \n",
        "for i in range(start,end): \n",
        "    for j in range(2,i): \n",
        "        if(i % j==0): \n",
        "            break\n",
        "    else: \n",
        "        print(i) "
      ],
      "execution_count": 19,
      "outputs": [
        {
          "output_type": "stream",
          "text": [
            "0\n",
            "1\n",
            "2\n",
            "3\n",
            "5\n",
            "7\n",
            "11\n",
            "13\n",
            "17\n",
            "19\n"
          ],
          "name": "stdout"
        }
      ]
    },
    {
      "cell_type": "markdown",
      "metadata": {
        "id": "qzhRtjqchAL9",
        "colab_type": "text"
      },
      "source": [
        "**Ques:2- Write a Python program to implement 15 functions of string**"
      ]
    },
    {
      "cell_type": "code",
      "metadata": {
        "id": "i6iVbSnRkSHs",
        "colab_type": "code",
        "colab": {
          "base_uri": "https://localhost:8080/",
          "height": 238
        },
        "outputId": "692c9381-f90d-4821-abdf-7b1ece834234"
      },
      "source": [
        "txt=\"hello IT is Great\"\n",
        "x = txt.capitalize()\n",
        "y= txt.casefold()\n",
        "z=txt.count(\"hello\")\n",
        "a=txt.encode()\n",
        "b=txt.find(\"Great\")\n",
        "c= txt.index(\"IT\")\n",
        "e= txt.islower()\n",
        "f= txt.isspace()\n",
        "g=txt.istitle()\n",
        "h= txt.isupper()\n",
        "i= txt.ljust(1)\n",
        "j= txt.lower()\n",
        "k= txt.lstrip()\n",
        "l=txt.upper()\n",
        "print (x)\n",
        "print(y)\n",
        "print(z)\n",
        "print(a)\n",
        "print(b)\n",
        "print(c)\n",
        "print(e)\n",
        "print(f)\n",
        "print(g)\n",
        "print(i)\n",
        "print(j)\n",
        "print(k)\n",
        "print(l)\n"
      ],
      "execution_count": 32,
      "outputs": [
        {
          "output_type": "stream",
          "text": [
            "Hello it is great\n",
            "hello it is great\n",
            "1\n",
            "b'hello IT is Great'\n",
            "12\n",
            "6\n",
            "False\n",
            "False\n",
            "False\n",
            "hello IT is Great\n",
            "hello it is great\n",
            "hello IT is Great\n",
            "HELLO IT IS GREAT\n"
          ],
          "name": "stdout"
        }
      ]
    },
    {
      "cell_type": "markdown",
      "metadata": {
        "id": "zN6JMa1ehKWU",
        "colab_type": "text"
      },
      "source": [
        "**Ques:3- Write a Python program to check if the given string is a Palindrome or Anagram or None of them. Display\n",
        "the message accordingly to the user.**\n"
      ]
    },
    {
      "cell_type": "code",
      "metadata": {
        "id": "bgIJvcSkkS37",
        "colab_type": "code",
        "colab": {}
      },
      "source": [
        ""
      ],
      "execution_count": null,
      "outputs": []
    },
    {
      "cell_type": "markdown",
      "metadata": {
        "id": "fEIEaws8hQNL",
        "colab_type": "text"
      },
      "source": [
        "**Ques:4 Write a Python's user-defined function that removes all the additional characters from the string and\n",
        "convert it finally to lower case using built-in lower(). eg: If the string is \"Dr. Darshan Ingle @AIML Trainer\",\n",
        "then the output be \"drdarshaningleaimltrainer\".**"
      ]
    },
    {
      "cell_type": "code",
      "metadata": {
        "id": "bXAZRqxEkTpj",
        "colab_type": "code",
        "colab": {}
      },
      "source": [
        ""
      ],
      "execution_count": null,
      "outputs": []
    }
  ]
}