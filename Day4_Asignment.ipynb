{
  "nbformat": 4,
  "nbformat_minor": 0,
  "metadata": {
    "colab": {
      "name": "Day4_Asignment.ipynb",
      "provenance": []
    },
    "kernelspec": {
      "name": "python3",
      "display_name": "Python 3"
    }
  },
  "cells": [
    {
      "cell_type": "markdown",
      "metadata": {
        "id": "3I349MphUXN6",
        "colab_type": "text"
      },
      "source": [
        "**Question-1: Research on whether addition, subtraction, multiplication, division, floor division, and modulo operations\n",
        "be performed on complex numbers. Based on your study, implement a Python program to demonstrate\n",
        "these operations.**\n"
      ]
    },
    {
      "cell_type": "code",
      "metadata": {
        "id": "-OYwU5-bUsn8",
        "colab_type": "code",
        "colab": {
          "base_uri": "https://localhost:8080/",
          "height": 85
        },
        "outputId": "42c59620-e300-4a7f-8a86-058c910bd6ad"
      },
      "source": [
        "z1= 2+3j    #first complex number\n",
        "z2= 8+5j   #Second complex number\n",
        "z3= z1+z2    #addition\n",
        "z4= z1*z2    #multiplication\n",
        "z5= z1/z2    #division\n",
        "z6= z1-z2    #subtraction\n",
        "print(\"The Addition of complex numbers\", z1, \"and\", z2, \"is:\", z3)\n",
        "print(\"The multiplication of complex numbers\", z1, \"and\",z2, \"is:\", z4)\n",
        "print(\"The division of complex numbers\", z1, \"and\",z2, \"is:\", z5)\n",
        "print(\"The subtraction of complex numbers\", z1, \"and\",z2, \"is:\", z6)"
      ],
      "execution_count": 5,
      "outputs": [
        {
          "output_type": "stream",
          "text": [
            "The Addition of complex numbers (2+3j) and (8+5j) is: (10+8j)\n",
            "The multiplication of complex numbers (2+3j) and (8+5j) is: (1+34j)\n",
            "The division of complex numbers (2+3j) and (8+5j) is: (0.34831460674157305+0.15730337078651685j)\n",
            "The subtraction of complex numbers (2+3j) and (8+5j) is: (-6-2j)\n"
          ],
          "name": "stdout"
        }
      ]
    },
    {
      "cell_type": "markdown",
      "metadata": {
        "id": "WQHjV95bUtZe",
        "colab_type": "text"
      },
      "source": [
        "**Question-2: Research on range() functions and its parameters. Create a markdown cell and write in your own words**"
      ]
    },
    {
      "cell_type": "markdown",
      "metadata": {
        "id": "_j8UfuDeZzcg",
        "colab_type": "text"
      },
      "source": [
        "\n",
        "\n",
        "*   The range() is a built-in function of Python, which is introduced in Python3, and it is used to perform an action for the sepcific number of times. \n",
        "*   As the output, it provides the sequence of numbers, and mainly used with the for loop and while loop. The range() takes mainly three arguments, which are given below:\n",
        "\n",
        "1. start: integer starting from which the sequence of integers is to be returned\n",
        "2. stop: integer before which the sequence of integers is to be returned.\n",
        "The range of integers end at stop – 1.\n",
        "3. step: integer value which determines the increment between each integer in the sequence\n",
        "\n"
      ]
    },
    {
      "cell_type": "code",
      "metadata": {
        "id": "Ml-lD-qlbZbY",
        "colab_type": "code",
        "colab": {
          "base_uri": "https://localhost:8080/",
          "height": 34
        },
        "outputId": "848c058d-2477-4b4a-d037-015f547890c8"
      },
      "source": [
        "# using range for iteration \n",
        "l = [100, 200, 300, 400] \n",
        "for i in range(len(l)): \n",
        "    print(l[i], end =\" \") \n",
        "print() \n",
        "  "
      ],
      "execution_count": 10,
      "outputs": [
        {
          "output_type": "stream",
          "text": [
            "100 200 300 400 \n"
          ],
          "name": "stdout"
        }
      ]
    },
    {
      "cell_type": "markdown",
      "metadata": {
        "id": "xMqQepFYWa75",
        "colab_type": "text"
      },
      "source": [
        "**Question-3: Consider two numbers. Perform their subtraction and if the result of subtraction is greater than 25, print\n",
        "their multiplication result else print their division result.**"
      ]
    },
    {
      "cell_type": "code",
      "metadata": {
        "id": "b9GHrUG-WqPz",
        "colab_type": "code",
        "colab": {
          "base_uri": "https://localhost:8080/",
          "height": 34
        },
        "outputId": "2e2721ef-77bc-4e56-f7bd-ef74195a1da1"
      },
      "source": [
        "a= 50\n",
        "b=10\n",
        "c=a-b\n",
        "mul= a*b\n",
        "div= a/b\n",
        "if c > 25:\n",
        "  print(\"The multiplication of\", a,\"&\", b, \"is:\", mul)\n",
        "else:\n",
        "  print(\"The division of\", a,\"&\", b, \"is:\", div)"
      ],
      "execution_count": 14,
      "outputs": [
        {
          "output_type": "stream",
          "text": [
            "The multiplication of 50 & 10 is: 500\n"
          ],
          "name": "stdout"
        }
      ]
    },
    {
      "cell_type": "markdown",
      "metadata": {
        "id": "-BBVBqcLWq5a",
        "colab_type": "text"
      },
      "source": [
        "**Question-4: Consider a list of 10 elements of integer values. If the number in the list is divisible by 2, print the result as\n",
        "\"square of that number minus 2\".**\n"
      ]
    },
    {
      "cell_type": "code",
      "metadata": {
        "id": "fekSHmLZWztY",
        "colab_type": "code",
        "colab": {
          "base_uri": "https://localhost:8080/",
          "height": 129
        },
        "outputId": "dcf272fb-767f-4eb7-9964-04c76058d2b8"
      },
      "source": [
        "l=[10,20,30,40,50,60,70,80,90,100]\n",
        "for x in l\n",
        "  if l[]/2=0:\n",
        "    print(l[n*2]-2)\n",
        "\n"
      ],
      "execution_count": 15,
      "outputs": [
        {
          "output_type": "error",
          "ename": "SyntaxError",
          "evalue": "ignored",
          "traceback": [
            "\u001b[0;36m  File \u001b[0;32m\"<ipython-input-15-195c5e6e2b2b>\"\u001b[0;36m, line \u001b[0;32m2\u001b[0m\n\u001b[0;31m    for x in l\u001b[0m\n\u001b[0m              ^\u001b[0m\n\u001b[0;31mSyntaxError\u001b[0m\u001b[0;31m:\u001b[0m invalid syntax\n"
          ]
        }
      ]
    },
    {
      "cell_type": "markdown",
      "metadata": {
        "id": "MnS-IlzGW0LY",
        "colab_type": "text"
      },
      "source": [
        "**Question-5: Consider a list of 10 elements. Print all the elements in the list which are greater than 7 when that number\n",
        "is divided 2.**"
      ]
    },
    {
      "cell_type": "code",
      "metadata": {
        "id": "9Nn6X2ugXAp2",
        "colab_type": "code",
        "colab": {}
      },
      "source": [
        ""
      ],
      "execution_count": null,
      "outputs": []
    }
  ]
}