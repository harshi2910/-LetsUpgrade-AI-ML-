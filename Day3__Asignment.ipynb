{
  "nbformat": 4,
  "nbformat_minor": 0,
  "metadata": {
    "colab": {
      "name": "Day3 _Asignment.ipynb",
      "provenance": [],
      "collapsed_sections": []
    },
    "kernelspec": {
      "name": "python3",
      "display_name": "Python 3"
    }
  },
  "cells": [
    {
      "cell_type": "markdown",
      "metadata": {
        "id": "Cq5gd5_UD04u",
        "colab_type": "text"
      },
      "source": [
        "**Question-1: Write a program to subtract two complex numbers in Python**"
      ]
    },
    {
      "cell_type": "code",
      "metadata": {
        "id": "aBoxZaUmC7Ag",
        "colab_type": "code",
        "colab": {
          "base_uri": "https://localhost:8080/",
          "height": 34
        },
        "outputId": "cc802a36-e007-47a0-9c05-4109c8f1fa8a"
      },
      "source": [
        "z1= 1+2j\n",
        "z2= 1+3j\n",
        "z3= z1+z2\n",
        "print(\"Addition of two complex numbers z1 & z2 is:\", z3)"
      ],
      "execution_count": 7,
      "outputs": [
        {
          "output_type": "stream",
          "text": [
            "Addition of two complex numbers z1 & z2 is: (2+5j)\n"
          ],
          "name": "stdout"
        }
      ]
    },
    {
      "cell_type": "markdown",
      "metadata": {
        "id": "SOhuKUvvGgER",
        "colab_type": "text"
      },
      "source": [
        "**Question-2: Write a program to find the fourth root of a number.**\n"
      ]
    },
    {
      "cell_type": "code",
      "metadata": {
        "id": "pJXTFqznCj65",
        "colab_type": "code",
        "colab": {
          "base_uri": "https://localhost:8080/",
          "height": 34
        },
        "outputId": "c47d3729-e3aa-4215-a202-e11b8527c6af"
      },
      "source": [
        "num1= 256\n",
        "root= num1**0.25\n",
        "print(\"Fourth root of number num1 is:\", root)"
      ],
      "execution_count": 12,
      "outputs": [
        {
          "output_type": "stream",
          "text": [
            "Fourth root of number num1 is: 4.0\n"
          ],
          "name": "stdout"
        }
      ]
    },
    {
      "cell_type": "markdown",
      "metadata": {
        "id": "78UsTqmrGd5F",
        "colab_type": "text"
      },
      "source": [
        "**Question-3: Write a program to swap two numbers in Python with the help of a temporary variable.**"
      ]
    },
    {
      "cell_type": "code",
      "metadata": {
        "id": "XNoabbASIQXG",
        "colab_type": "code",
        "colab": {
          "base_uri": "https://localhost:8080/",
          "height": 85
        },
        "outputId": "a808c358-f264-4d5e-f8d6-00221ac350db"
      },
      "source": [
        "x= 10\n",
        "y= 20\n",
        "print(\"The values of x before swapping:\", x)\n",
        "print(\"The values of y before swapping:\", y)\n",
        "temp= x\n",
        "x=y\n",
        "y=temp\n",
        "print(\"The values of x after swapping:\", x)\n",
        "print(\"The values of y after swapping:\", y)"
      ],
      "execution_count": 14,
      "outputs": [
        {
          "output_type": "stream",
          "text": [
            "The values of x before swapping: 10\n",
            "The values of y before swapping: 20\n",
            "The values of x after swapping: 20\n",
            "The values of y after swapping: 10\n"
          ],
          "name": "stdout"
        }
      ]
    },
    {
      "cell_type": "markdown",
      "metadata": {
        "id": "U7lWFRqtKeMH",
        "colab_type": "text"
      },
      "source": [
        "**Question-4: Write a program to swap two numbers in Python without using a temporary variable.**"
      ]
    },
    {
      "cell_type": "code",
      "metadata": {
        "id": "ls7tAMOBKp9l",
        "colab_type": "code",
        "colab": {
          "base_uri": "https://localhost:8080/",
          "height": 85
        },
        "outputId": "932b1d7e-00b3-45cd-c6a1-666d52bce051"
      },
      "source": [
        "x= 20\n",
        "y= 50\n",
        "print(\"The values of x before swapping:\", x)\n",
        "print(\"The values of y before swapping:\", y)\n",
        "x= x+y\n",
        "y= x-y\n",
        "x= x-y\n",
        "print(\"The values of x after swapping:\", x)\n",
        "print(\"The values of y after swapping:\", y)"
      ],
      "execution_count": 15,
      "outputs": [
        {
          "output_type": "stream",
          "text": [
            "The values of x before swapping: 20\n",
            "The values of y before swapping: 50\n",
            "The values of x after swapping: 50\n",
            "The values of y after swapping: 20\n"
          ],
          "name": "stdout"
        }
      ]
    },
    {
      "cell_type": "markdown",
      "metadata": {
        "id": "zCFXRpddLarx",
        "colab_type": "text"
      },
      "source": [
        "**Question-5: Write a program to convert Fahrenheit to kelvin and celsius both.**\n"
      ]
    },
    {
      "cell_type": "code",
      "metadata": {
        "id": "Ri3KStVvLjIv",
        "colab_type": "code",
        "colab": {
          "base_uri": "https://localhost:8080/",
          "height": 51
        },
        "outputId": "8191146e-b338-4c88-9437-d4b5d1a38030"
      },
      "source": [
        "F= 250 \n",
        "C= (F-32) * 5/9\n",
        "K= ((F-32) * 5/9 )+ 273.15\n",
        "print(\"The Fahrenheit temprature\", F,\"in celsius is:\", C)\n",
        "print(\"The Fahrenheit temprature\", F,\"in Kelvin is:\", K)"
      ],
      "execution_count": 22,
      "outputs": [
        {
          "output_type": "stream",
          "text": [
            "The Fahrenheit temprature 250 in celsius is: 121.11111111111111\n",
            "The Fahrenheit temprature 250 in Kelvin is: 394.26111111111106\n"
          ],
          "name": "stdout"
        }
      ]
    },
    {
      "cell_type": "markdown",
      "metadata": {
        "id": "6VMDyiDmOUb5",
        "colab_type": "text"
      },
      "source": [
        "**Question-6: Write a program to demonstrate all the available data types in Python.**"
      ]
    },
    {
      "cell_type": "code",
      "metadata": {
        "id": "hNksPli-Od_z",
        "colab_type": "code",
        "colab": {
          "base_uri": "https://localhost:8080/",
          "height": 170
        },
        "outputId": "7a703b3d-101c-4154-a4ff-5ecaff1d569f"
      },
      "source": [
        "a=10\n",
        "b=2+3j\n",
        "c=50.02\n",
        "d=\"Letsupgrade\"\n",
        "e=[10, 2]\n",
        "f=(12, \"AI/ML\")\n",
        "g={1,2,3}\n",
        "h= {1:'value','key':2}\n",
        "\n",
        "print(\"The availble data types in Python are:\")\n",
        "\n",
        "print(\"a is data type of:\", type(a))\n",
        "\n",
        "print(\"b is data type of:\", type(b))\n",
        "\n",
        "print(\"c is data type of:\", type(c))\n",
        "\n",
        "print(\"d is data type of:\", type(d))\n",
        "\n",
        "print(\"e is data type of:\", type(e))\n",
        "\n",
        "print(\"f is data type of:\", type(f))\n",
        "\n",
        "print(\"g is data type of:\", type(g))\n",
        "\n",
        "print(\"h is data type of:\", type(h))"
      ],
      "execution_count": 25,
      "outputs": [
        {
          "output_type": "stream",
          "text": [
            "The availble data types in Python are:\n",
            "a is data type of: <class 'int'>\n",
            "b is data type of: <class 'complex'>\n",
            "c is data type of: <class 'float'>\n",
            "d is data type of: <class 'str'>\n",
            "e is data type of: <class 'list'>\n",
            "f is data type of: <class 'tuple'>\n",
            "g is data type of: <class 'set'>\n",
            "h is data type of: <class 'dict'>\n"
          ],
          "name": "stdout"
        }
      ]
    }
  ]
}